{
 "cells": [
  {
   "cell_type": "markdown",
   "metadata": {},
   "source": [
    "# Data Science in Marketing: Customer Segmentation with Python - part 1"
   ]
  },
  {
   "cell_type": "markdown",
   "metadata": {},
   "source": [
    "Salah satu teknik yang bisa dilakukan untuk mengenal pelanggan lebih baik adalah dengan melakukan segmentasi pelanggan. Yaitu dengan mengelompokkan pelanggan-pelanggan yang ada berdasarkan kesamaan karakter dari pelanggan tersebut. Untuk melakukan hal tersebut gunakan teknik unsupervised machine learning.\n",
    "\n",
    "*Salah satu teknik yang dapat digunakan adalah mengaplikasikan machine learning menggunakan algorima K-Prototypes. Algorima K-Prototypes merupakan gabungan dari K-Means dan K-Modes yang dapat digunakan untuk melakukan segmentasi dengan data*.\n",
    "\n",
    "Data yang digunakan saat ini memiliki kolom dengan rician sebagai berikut :  \n",
    "- CustomerID : Kode Pelanggan dengan format campuran text *CUST-* diikuti anggka  \n",
    "- Nama Pelanggan : Nama dari pelanggan dengan format text  \n",
    "- Jenis Kelamin : Jenis Kelamin dari pelanggan. hanya terdapat dua isidata kategori yaitu Pria dan Wanita  \n",
    "- Umur : Umur dari pelanggan dalam format angka\n",
    "- Profesi : Profesi dari pelanggan, bertipe text kategoru yang terdiri dari : Wiraswasta, Pelajar, Professional, Ibu Rumah Tangga, dan Mahasiswa.  \n",
    "- Tipe Residen : Tipe tempat tinggal dari pelanggan, terdiri dari 2 kategori yaitu Cluster dan Sector.  \n",
    "- NilaiBelanjaSetahun : merupakan total belanja yang sudah dikeluarka oleh pelanggan tersebut.\n",
    "\n"
   ]
  },
  {
   "cell_type": "markdown",
   "metadata": {},
   "source": [
    "## Persiapkan Library\n",
    "- Pandas, di gunakan untuk melakukan pemrosesan analisis data  \n",
    "- Matplotlib, di gunakan sebagai dasar untuk melakukan visualisasi data  \n",
    "- Seaborn, di gunakan di atas matplotlib untuk melakukan data visualisasi yang lebih menarik  \n",
    "- Scikit - Learn, digunakan untuk mempersiapkan data sebelum dilakukan permodelan  \n",
    "- kmodes, digunakan untuk melakukan permodelan menggunakan algoritma K-Modes dan K-Prototypes.  \n",
    "- Pickle, digunakan untuk melakukan penyimpanan dari model yang akan di buat  "
   ]
  },
  {
   "cell_type": "code",
   "execution_count": 2,
   "metadata": {},
   "outputs": [],
   "source": [
    "import pandas as pd  \n",
    "import matplotlib.pyplot as plt  \n",
    "import seaborn as sns  \n",
    "from sklearn.preprocessing import LabelEncoder\n",
    "  \n",
    "from kmodes.kmodes import KModes  \n",
    "from kmodes.kprototypes import KPrototypes  \n",
    "import pickle  \n",
    "from pathlib import Path"
   ]
  },
  {
   "cell_type": "code",
   "execution_count": 3,
   "metadata": {},
   "outputs": [
    {
     "name": "stdout",
     "output_type": "stream",
     "text": [
      "  Customer_ID       Nama Pelanggan Jenis Kelamin  Umur       Profesi  \\\n",
      "0    CUST-001         Budi Anggara          Pria    58    Wiraswasta   \n",
      "1    CUST-002     Shirley Ratuwati        Wanita    14       Pelajar   \n",
      "2    CUST-003         Agus Cahyono          Pria    48  Professional   \n",
      "3    CUST-004     Antonius Winarta          Pria    53  Professional   \n",
      "4    CUST-005  Ibu Sri Wahyuni, IR        Wanita    41    Wiraswasta   \n",
      "\n",
      "  Tipe Residen  NilaiBelanjaSetahun  \n",
      "0       Sector              9497927  \n",
      "1      Cluster              2722700  \n",
      "2      Cluster              5286429  \n",
      "3      Cluster              5204498  \n",
      "4      Cluster             10615206  \n"
     ]
    }
   ],
   "source": [
    "# Baca Data Pelanggan\n",
    "# import dataset  \n",
    "df = pd.read_csv(\"https://storage.googleapis.com/dqlab-dataset/customer_segments.txt\", sep=\"\\t\")  \n",
    "  \n",
    "# menampilkan data  \n",
    "print(df.head())"
   ]
  },
  {
   "cell_type": "markdown",
   "metadata": {},
   "source": [
    "## Melihat informasi dari Data\n",
    "Lihat informasi jumlah kolom, nama kolom, indentifikasi null values dan tipe data."
   ]
  },
  {
   "cell_type": "code",
   "execution_count": 4,
   "metadata": {},
   "outputs": [
    {
     "name": "stdout",
     "output_type": "stream",
     "text": [
      "<class 'pandas.core.frame.DataFrame'>\n",
      "RangeIndex: 50 entries, 0 to 49\n",
      "Data columns (total 7 columns):\n",
      " #   Column               Non-Null Count  Dtype \n",
      "---  ------               --------------  ----- \n",
      " 0   Customer_ID          50 non-null     object\n",
      " 1   Nama Pelanggan       50 non-null     object\n",
      " 2   Jenis Kelamin        50 non-null     object\n",
      " 3   Umur                 50 non-null     int64 \n",
      " 4   Profesi              50 non-null     object\n",
      " 5   Tipe Residen         50 non-null     object\n",
      " 6   NilaiBelanjaSetahun  50 non-null     int64 \n",
      "dtypes: int64(2), object(5)\n",
      "memory usage: 2.9+ KB\n"
     ]
    }
   ],
   "source": [
    "df.info()"
   ]
  },
  {
   "cell_type": "markdown",
   "metadata": {},
   "source": [
    "## Kesimpulan\n",
    "Dalam setiap project *machine learning kita harus memahami informasi dasar dari data yang kita miliki sebelum melakukan analisa lebih lanjut, memastikan tipe data dari masing-masing kolom sudah benar, mengetahui apakah ada data null di tiap-tiap kolom, dan juga mengetahui nama-nama kolom di dataset yang digunakan. dari perintah diatas dapat diketahui bahwa :  \n",
    "- Data yang akan digunakan terdir dari 50 baris dan 7 kolom.  \n",
    "- Tidak ada nilai Null pada data\n",
    "- Dua kolom memiliki tipe data numeric dan lima data bertipe string\n"
   ]
  },
  {
   "cell_type": "markdown",
   "metadata": {},
   "source": [
    "## Melakukan Eksplorasi Data\n",
    "Lakukan eksplorasi data untuk lebih mengenal dataset yang akan digunakan. Lakukan eksplorasi untuk data numerik dan juga data kategorikal.\n",
    "\n",
    "### Eksplorasi Data Numerik\n",
    "Pertama-tama perlu melihat distribusi data dari data yang berjenis numerik. Gunakan boxplot dan juga histogram untuk melihat distribusi datanya. Untuk melihat grafik tersebut, perlu disiapkan kolom mana yang merupakan numerik, kemudian menggunakan library seaborn untuk membuat plot masing-masing kolom numerik, yaitu *'Umur'* dan *'NilaiBelanjaSetahun'*.\n",
    "\n",
    "Buat grafik boxplot dan histogram untuk kolom *Umur* dan juga *NilaiBelanjaSetahun*."
   ]
  },
  {
   "cell_type": "code",
   "execution_count": 9,
   "metadata": {},
   "outputs": [
    {
     "name": "stderr",
     "output_type": "stream",
     "text": [
      "/home/dany/code/wsl/venv/dqlab/lib/python3.8/site-packages/seaborn/_decorators.py:36: FutureWarning: Pass the following variable as a keyword arg: x. From version 0.12, the only valid positional argument will be `data`, and passing other arguments without an explicit keyword will result in an error or misinterpretation.\n",
      "  warnings.warn(\n",
      "/home/dany/code/wsl/venv/dqlab/lib/python3.8/site-packages/seaborn/distributions.py:2557: FutureWarning: `distplot` is a deprecated function and will be removed in a future version. Please adapt your code to use either `displot` (a figure-level function with similar flexibility) or `histplot` (an axes-level function for histograms).\n",
      "  warnings.warn(msg, FutureWarning)\n",
      "/home/dany/code/wsl/venv/dqlab/lib/python3.8/site-packages/seaborn/_decorators.py:36: FutureWarning: Pass the following variable as a keyword arg: x. From version 0.12, the only valid positional argument will be `data`, and passing other arguments without an explicit keyword will result in an error or misinterpretation.\n",
      "  warnings.warn(\n",
      "/home/dany/code/wsl/venv/dqlab/lib/python3.8/site-packages/seaborn/distributions.py:2557: FutureWarning: `distplot` is a deprecated function and will be removed in a future version. Please adapt your code to use either `displot` (a figure-level function with similar flexibility) or `histplot` (an axes-level function for histograms).\n",
      "  warnings.warn(msg, FutureWarning)\n"
     ]
    },
    {
     "name": "stdout",
     "output_type": "stream",
     "text": [
      "  adjustable: {'box', 'datalim'}\n",
      "  agg_filter: a filter function, which takes a (m, n, 3) float array and a dpi value, and returns a (m, n, 3) array\n",
      "  alpha: scalar or None\n",
      "  anchor: 2-tuple of floats or {'C', 'SW', 'S', 'SE', ...}\n",
      "  animated: bool\n",
      "  aspect: {'auto'} or num\n",
      "  autoscale_on: bool\n",
      "  autoscalex_on: bool\n",
      "  autoscaley_on: bool\n",
      "  axes_locator: Callable[[Axes, Renderer], Bbox]\n",
      "  axisbelow: bool or 'line'\n",
      "  box_aspect: float or None\n",
      "  clip_box: `.Bbox`\n",
      "  clip_on: bool\n",
      "  clip_path: Patch or (Path, Transform) or None\n",
      "  contains: unknown\n",
      "  facecolor or fc: color\n",
      "  figure: `.Figure`\n",
      "  frame_on: bool\n",
      "  gid: str\n",
      "  in_layout: bool\n",
      "  label: object\n",
      "  navigate: bool\n",
      "  navigate_mode: unknown\n",
      "  path_effects: `.AbstractPathEffect`\n",
      "  picker: None or bool or float or callable\n",
      "  position: [left, bottom, width, height] or `~matplotlib.transforms.Bbox`\n",
      "  prop_cycle: unknown\n",
      "  rasterization_zorder: float or None\n",
      "  rasterized: bool\n",
      "  sketch_params: (scale: float, length: float, randomness: float)\n",
      "  snap: bool or None\n",
      "  subplotspec: unknown\n",
      "  title: str\n",
      "  transform: `.Transform`\n",
      "  url: str\n",
      "  visible: bool\n",
      "  xbound: unknown\n",
      "  xlabel: str\n",
      "  xlim: (bottom: float, top: float)\n",
      "  xmargin: float greater than -0.5\n",
      "  xscale: {\"linear\", \"log\", \"symlog\", \"logit\", ...} or `.ScaleBase`\n",
      "  xticklabels: unknown\n",
      "  xticks: unknown\n",
      "  ybound: unknown\n",
      "  ylabel: str\n",
      "  ylim: (bottom: float, top: float)\n",
      "  ymargin: float greater than -0.5\n",
      "  yscale: {\"linear\", \"log\", \"symlog\", \"logit\", ...} or `.ScaleBase`\n",
      "  yticklabels: unknown\n",
      "  yticks: unknown\n",
      "  zorder: float\n"
     ]
    },
    {
     "data": {
      "text/plain": [
       "<Figure size 432x288 with 0 Axes>"
      ]
     },
     "metadata": {},
     "output_type": "display_data"
    },
    {
     "data": {
      "image/png": "[encoded data removed]",
      "text/plain": [
       "<Figure size 720x648 with 4 Axes>"
      ]
     },
     "metadata": {},
     "output_type": "display_data"
    }
   ],
   "source": [
    "sns.set(style='white')\n",
    "plt.clf()\n",
    "  \n",
    "# Fungsi untuk membuat plot  \n",
    "def observasi_num(features):  \n",
    "    fig, axs = plt.subplots(2, 2, figsize=(10, 9))\n",
    "    for i, kol in enumerate(features):\n",
    "\t    sns.boxplot(df[kol], ax = axs[i][0])\n",
    "\t    sns.distplot(df[kol], ax = axs[i][1])   \n",
    "\t    axs[i][0].set_title('mean = %.2f\\n median = %.2f\\n std = %.2f'%(df[kol].mean(), df[kol].median(), df[kol].std()))\n",
    "    plt.setp(axs)\n",
    "    plt.tight_layout()\n",
    "    plt.show()  \n",
    "  \n",
    "# Memanggil fungsi untuk membuat Plot untuk data numerik  \n",
    "kolom_numerik = ['Umur','NilaiBelanjaSetahun'] \n",
    "observasi_num(kolom_numerik) "
   ]
  },
  {
   "cell_type": "markdown",
   "metadata": {},
   "source": [
    "### Eksplorasi Data Kategorikal\n",
    "Selain data numerikal, perlu dilihat juga sebaran data pada kolom-kolom yang memiliki jenis kategorikal yaitu Jenis Kelamin, Profesi dan Tipe Residen, hal ini dapat dilakukan dengan menggunakan method countplot dari library seaborn."
   ]
  },
  {
   "cell_type": "code",
   "execution_count": 13,
   "metadata": {},
   "outputs": [
    {
     "name": "stderr",
     "output_type": "stream",
     "text": [
      "/home/dany/code/wsl/venv/dqlab/lib/python3.8/site-packages/seaborn/_decorators.py:36: FutureWarning: Pass the following variable as a keyword arg: x. From version 0.12, the only valid positional argument will be `data`, and passing other arguments without an explicit keyword will result in an error or misinterpretation.\n",
      "  warnings.warn(\n",
      "/home/dany/code/wsl/venv/dqlab/lib/python3.8/site-packages/seaborn/_decorators.py:36: FutureWarning: Pass the following variable as a keyword arg: x. From version 0.12, the only valid positional argument will be `data`, and passing other arguments without an explicit keyword will result in an error or misinterpretation.\n",
      "  warnings.warn(\n",
      "/home/dany/code/wsl/venv/dqlab/lib/python3.8/site-packages/seaborn/_decorators.py:36: FutureWarning: Pass the following variable as a keyword arg: x. From version 0.12, the only valid positional argument will be `data`, and passing other arguments without an explicit keyword will result in an error or misinterpretation.\n",
      "  warnings.warn(\n"
     ]
    },
    {
     "name": "stdout",
     "output_type": "stream",
     "text": [
      "  adjustable: {'box', 'datalim'}\n",
      "  agg_filter: a filter function, which takes a (m, n, 3) float array and a dpi value, and returns a (m, n, 3) array\n",
      "  alpha: scalar or None\n",
      "  anchor: 2-tuple of floats or {'C', 'SW', 'S', 'SE', ...}\n",
      "  animated: bool\n",
      "  aspect: {'auto'} or num\n",
      "  autoscale_on: bool\n",
      "  autoscalex_on: bool\n",
      "  autoscaley_on: bool\n",
      "  axes_locator: Callable[[Axes, Renderer], Bbox]\n",
      "  axisbelow: bool or 'line'\n",
      "  box_aspect: float or None\n",
      "  clip_box: `.Bbox`\n",
      "  clip_on: bool\n",
      "  clip_path: Patch or (Path, Transform) or None\n",
      "  contains: unknown\n",
      "  facecolor or fc: color\n",
      "  figure: `.Figure`\n",
      "  frame_on: bool\n",
      "  gid: str\n",
      "  in_layout: bool\n",
      "  label: object\n",
      "  navigate: bool\n",
      "  navigate_mode: unknown\n",
      "  path_effects: `.AbstractPathEffect`\n",
      "  picker: None or bool or float or callable\n",
      "  position: [left, bottom, width, height] or `~matplotlib.transforms.Bbox`\n",
      "  prop_cycle: unknown\n",
      "  rasterization_zorder: float or None\n",
      "  rasterized: bool\n",
      "  sketch_params: (scale: float, length: float, randomness: float)\n",
      "  snap: bool or None\n",
      "  subplotspec: unknown\n",
      "  title: str\n",
      "  transform: `.Transform`\n",
      "  url: str\n",
      "  visible: bool\n",
      "  xbound: unknown\n",
      "  xlabel: str\n",
      "  xlim: (bottom: float, top: float)\n",
      "  xmargin: float greater than -0.5\n",
      "  xscale: {\"linear\", \"log\", \"symlog\", \"logit\", ...} or `.ScaleBase`\n",
      "  xticklabels: unknown\n",
      "  xticks: unknown\n",
      "  ybound: unknown\n",
      "  ylabel: str\n",
      "  ylim: (bottom: float, top: float)\n",
      "  ymargin: float greater than -0.5\n",
      "  yscale: {\"linear\", \"log\", \"symlog\", \"logit\", ...} or `.ScaleBase`\n",
      "  yticklabels: unknown\n",
      "  yticks: unknown\n",
      "  zorder: float\n",
      "  adjustable: {'box', 'datalim'}\n",
      "  agg_filter: a filter function, which takes a (m, n, 3) float array and a dpi value, and returns a (m, n, 3) array\n",
      "  alpha: scalar or None\n",
      "  anchor: 2-tuple of floats or {'C', 'SW', 'S', 'SE', ...}\n",
      "  animated: bool\n",
      "  aspect: {'auto'} or num\n",
      "  autoscale_on: bool\n",
      "  autoscalex_on: bool\n",
      "  autoscaley_on: bool\n",
      "  axes_locator: Callable[[Axes, Renderer], Bbox]\n",
      "  axisbelow: bool or 'line'\n",
      "  box_aspect: float or None\n",
      "  clip_box: `.Bbox`\n",
      "  clip_on: bool\n",
      "  clip_path: Patch or (Path, Transform) or None\n",
      "  contains: unknown\n",
      "  facecolor or fc: color\n",
      "  figure: `.Figure`\n",
      "  frame_on: bool\n",
      "  gid: str\n",
      "  in_layout: bool\n",
      "  label: object\n",
      "  navigate: bool\n",
      "  navigate_mode: unknown\n",
      "  path_effects: `.AbstractPathEffect`\n",
      "  picker: None or bool or float or callable\n",
      "  position: [left, bottom, width, height] or `~matplotlib.transforms.Bbox`\n",
      "  prop_cycle: unknown\n",
      "  rasterization_zorder: float or None\n",
      "  rasterized: bool\n",
      "  sketch_params: (scale: float, length: float, randomness: float)\n",
      "  snap: bool or None\n",
      "  subplotspec: unknown\n",
      "  title: str\n",
      "  transform: `.Transform`\n",
      "  url: str\n",
      "  visible: bool\n",
      "  xbound: unknown\n",
      "  xlabel: str\n",
      "  xlim: (bottom: float, top: float)\n",
      "  xmargin: float greater than -0.5\n",
      "  xscale: {\"linear\", \"log\", \"symlog\", \"logit\", ...} or `.ScaleBase`\n",
      "  xticklabels: unknown\n",
      "  xticks: unknown\n",
      "  ybound: unknown\n",
      "  ylabel: str\n",
      "  ylim: (bottom: float, top: float)\n",
      "  ymargin: float greater than -0.5\n",
      "  yscale: {\"linear\", \"log\", \"symlog\", \"logit\", ...} or `.ScaleBase`\n",
      "  yticklabels: unknown\n",
      "  yticks: unknown\n",
      "  zorder: float\n",
      "  adjustable: {'box', 'datalim'}\n",
      "  agg_filter: a filter function, which takes a (m, n, 3) float array and a dpi value, and returns a (m, n, 3) array\n",
      "  alpha: scalar or None\n",
      "  anchor: 2-tuple of floats or {'C', 'SW', 'S', 'SE', ...}\n",
      "  animated: bool\n",
      "  aspect: {'auto'} or num\n",
      "  autoscale_on: bool\n",
      "  autoscalex_on: bool\n",
      "  autoscaley_on: bool\n",
      "  axes_locator: Callable[[Axes, Renderer], Bbox]\n",
      "  axisbelow: bool or 'line'\n",
      "  box_aspect: float or None\n",
      "  clip_box: `.Bbox`\n",
      "  clip_on: bool\n",
      "  clip_path: Patch or (Path, Transform) or None\n",
      "  contains: unknown\n",
      "  facecolor or fc: color\n",
      "  figure: `.Figure`\n",
      "  frame_on: bool\n",
      "  gid: str\n",
      "  in_layout: bool\n",
      "  label: object\n",
      "  navigate: bool\n",
      "  navigate_mode: unknown\n",
      "  path_effects: `.AbstractPathEffect`\n",
      "  picker: None or bool or float or callable\n",
      "  position: [left, bottom, width, height] or `~matplotlib.transforms.Bbox`\n",
      "  prop_cycle: unknown\n",
      "  rasterization_zorder: float or None\n",
      "  rasterized: bool\n",
      "  sketch_params: (scale: float, length: float, randomness: float)\n",
      "  snap: bool or None\n",
      "  subplotspec: unknown\n",
      "  title: str\n",
      "  transform: `.Transform`\n",
      "  url: str\n",
      "  visible: bool\n",
      "  xbound: unknown\n",
      "  xlabel: str\n",
      "  xlim: (bottom: float, top: float)\n",
      "  xmargin: float greater than -0.5\n",
      "  xscale: {\"linear\", \"log\", \"symlog\", \"logit\", ...} or `.ScaleBase`\n",
      "  xticklabels: unknown\n",
      "  xticks: unknown\n",
      "  ybound: unknown\n",
      "  ylabel: str\n",
      "  ylim: (bottom: float, top: float)\n",
      "  ymargin: float greater than -0.5\n",
      "  yscale: {\"linear\", \"log\", \"symlog\", \"logit\", ...} or `.ScaleBase`\n",
      "  yticklabels: unknown\n",
      "  yticks: unknown\n",
      "  zorder: float\n"
     ]
    },
    {
     "data": {
      "text/plain": [
       "<Figure size 432x288 with 0 Axes>"
      ]
     },
     "metadata": {},
     "output_type": "display_data"
    },
    {
     "data": {
      "image/png": "[encoded data removed]",
      "text/plain": [
       "<Figure size 504x720 with 3 Axes>"
      ]
     },
     "metadata": {},
     "output_type": "display_data"
    }
   ],
   "source": [
    "sns.set(style='white')\n",
    "plt.clf()\n",
    "  \n",
    "# Menyiapkan kolom kategorikal  \n",
    "kolom_kategorikal = ['Jenis Kelamin','Profesi','Tipe Residen']  \n",
    "\n",
    "# Membuat canvas\n",
    "fig, axs = plt.subplots(3,1,figsize=(7,10)) \n",
    "\n",
    "# Membuat plot untuk setiap kolom kategorikal  \n",
    "for i, kol in enumerate(kolom_kategorikal):  \n",
    "    # Membuat Plot\n",
    "    sns.countplot(df[kol], order = df[kol].value_counts().index, ax = axs[i])  \n",
    "    axs[i].set_title('\\nCount Plot %s\\n'%(kol), fontsize=15)  \n",
    "      \n",
    "    # Memberikan anotasi  \n",
    "    for p in axs[i].patches:  \n",
    "        axs[i].annotate(format(p.get_height(), '.0f'),  \n",
    "                        (p.get_x() + p.get_width() / 2., p.get_height()),  \n",
    "                        ha = 'center',  \n",
    "                        va = 'center',  \n",
    "                        xytext = (0, 10),  \n",
    "                        textcoords = 'offset points') \n",
    "          \n",
    "    # Setting Plot  \n",
    "    sns.despine(right=True,top = True, left = True)  \n",
    "    axs[i].axes.yaxis.set_visible(False) \n",
    "    plt.setp(axs)\n",
    "    plt.tight_layout()\n",
    "\n",
    "# Tampilkan plot\n",
    "plt.show()"
   ]
  },
  {
   "cell_type": "markdown",
   "metadata": {},
   "source": [
    "## Kesimpulan\n",
    "Dari hasil explorasi data tersebut didapat informasi bahwa :  \n",
    "- Rata-rata dari umur pelanggan adalah 37.5 tahun\n",
    "- Rata-rata dari nilai belanja setahun pelanggan adalah 7,069,874.82\n",
    "- Jenis kelamin pelanggan di dominasi oleh wanita sebanyak 41 orang (82%) dan laki-laki sebanyak 9 orang (18%)  \n",
    "- Profesi terbanyak adalah Wiraswasta(40%) diikuti Profesional (36%) dan lainnya sebanyak 24%  \n",
    "- Dari seluruh pelanggan 64% dari mereka tinggal di cluster dan 36% nya tinggal di sektor.\n",
    "\n",
    "### Tips:\n",
    "Dengan eksplorasi data kita dapat mengenal lebih jauh tentang data yang ada.\n",
    "Proses eskplorasi data bisa berupa univariate maupun multivariate data eksplorasi. Eksplorasi Data Univariate melihat karakteristik tiap-tiap feature, misalnya dengan melihat statistik destriptif, membuat histogram, kdeplot, count plot maupun boxplot. Sedangkan untuk Eksplorasi Data Multivariate, untuk melihat hubungan tiap variabel dengan variabel lainnya, misalkan dengan membuat korelasi matrix, melihat predictive power, cross tabulasi dan lainnya.\n",
    "\n",
    "## Mempersiapkan Data sebelum permodelan\n",
    "\n",
    "Setiap machine learning model memiliki karakteriktik yang berbeda-beda. Oleh karena itu harus mempersiapkan data yang dimiliki sebelum melakukan permodelan, sehingga dapat menyesuaikan dengan karakteristik yang dimiliki oleh tiap model dan mendapatkan hasil yang optimal.\n",
    "\n",
    "Disini teknik permodelan yang akan digunakan adalah unsupervised clustering. Algoritma yang digunakan adalah K-Prototypes. Langkah-langkahnya sebagai berikut :  \n",
    "- Salah satu faktor utama dalam algoritma ini adalah perlu menggunakan data yang skala antar variable nya setara,  \n",
    "- Selain itu juga perlu melakukan encoding kolom-kolom kategorikal yang dimiliki menjadi numerik,    \n",
    "- kemudian menggabungkan hasil pemrosesan data tersebut menjadi satu data frame untuk digunakan dalam permodelan.\n"
   ]
  },
  {
   "cell_type": "markdown",
   "metadata": {},
   "source": [
    "### 1.Lakukan standarisasi kolom-kolom numerik supaya berada pada satu skala sehingga variable yang memiliki skala besar tidak mendominsasi bagaimana cluster akan dibentuk dan juga tiap variabel akan dianggap sama pentingnya oleh algoritma"
   ]
  },
  {
   "cell_type": "code",
   "execution_count": 15,
   "metadata": {},
   "outputs": [
    {
     "name": "stdout",
     "output_type": "stream",
     "text": [
      "Statistik Sebelum Standardisasi\n",
      "\n",
      "       Umur  NilaiBelanjaSetahun\n",
      "count  50.0                 50.0\n",
      "mean   37.5            7069874.8\n",
      "std    14.7            2590619.0\n",
      "min    14.0            2722700.0\n",
      "25%    25.0            5257529.8\n",
      "50%    35.0            5980077.0\n",
      "75%    49.8            9739615.0\n",
      "max    64.0           10884508.0\n",
      "Contoh hasil standardisasi\n",
      "\n",
      "       Umur  NilaiBelanjaSetahun\n",
      "0  1.411245             0.946763\n",
      "1 -1.617768            -1.695081\n",
      "2  0.722833            -0.695414\n",
      "3  1.067039            -0.727361\n",
      "4  0.240944             1.382421\n",
      "Statistik hasil standardisasi\n",
      "\n",
      "       Umur  NilaiBelanjaSetahun\n",
      "count  50.0                 50.0\n",
      "mean    0.0                 -0.0\n",
      "std     1.0                  1.0\n",
      "min    -2.0                 -2.0\n",
      "25%    -1.0                 -1.0\n",
      "50%    -0.0                 -0.0\n",
      "75%     1.0                  1.0\n",
      "max     2.0                  1.0\n"
     ]
    }
   ],
   "source": [
    "from sklearn.preprocessing import StandardScaler  \n",
    "  \n",
    "kolom_numerik = ['Umur','NilaiBelanjaSetahun']  \n",
    "  \n",
    "# Statistik sebelum Standardisasi  \n",
    "print('Statistik Sebelum Standardisasi\\n')  \n",
    "print(df[kolom_numerik].describe().round(1))  \n",
    "  \n",
    "# Standardisasi  \n",
    "df_std = StandardScaler().fit_transform(df[kolom_numerik])  \n",
    "  \n",
    "# Membuat DataFrame  \n",
    "df_std = pd.DataFrame(data=df_std, index=df.index, columns=df[kolom_numerik].columns)  \n",
    "  \n",
    "# Menampilkan contoh isi data dan summary statistic  \n",
    "print('Contoh hasil standardisasi\\n')  \n",
    "print(df_std.head())  \n",
    "  \n",
    "print('Statistik hasil standardisasi\\n')  \n",
    "print(df_std.describe().round(0))  \n"
   ]
  },
  {
   "cell_type": "markdown",
   "metadata": {},
   "source": [
    "### 2. Konversi Kategorikal Data dengan label encoder\n",
    "Selanjutnya ubah kolom-kolom yang berjenis kategorikal menjadi angka. Gunakan fungsi LabelEncoder dari sklearn. Fungsi ini akan melakukan konversi data pelanggan dari teks menjadi numerik, contoh pada kolom Jenis Kelamin, tesk 'Pria' akan diubah menjadi angka 0 dan text 'Wanita' akan diubah menjadi 1.\n",
    "Perubahan ini perlu kita untuk semua teks semua sebelum digunakan pada algoritma K-Prototype."
   ]
  },
  {
   "cell_type": "code",
   "execution_count": 17,
   "metadata": {},
   "outputs": [
    {
     "name": "stdout",
     "output_type": "stream",
     "text": [
      "   Jenis Kelamin  Profesi  Tipe Residen\n",
      "0              0        4             1\n",
      "1              1        2             0\n",
      "2              0        3             0\n",
      "3              0        3             0\n",
      "4              1        4             0\n"
     ]
    }
   ],
   "source": [
    "from sklearn.preprocessing import StandardScaler\n",
    "  \n",
    "# Inisiasi nama kolom kategorikal  \n",
    "kolom_numerik = ['Umur','Profesi','Tipe Residen']  \n",
    "  \n",
    "# Membuat salinan data frame  \n",
    "df_encode = df[kolom_kategorikal].copy()  \n",
    "  \n",
    "  \n",
    "# Melakukan labelEncoder untuk semua kolom kategorikal  \n",
    "for col in kolom_kategorikal:  \n",
    "    df_encode[col]= LabelEncoder().fit_transform(df_encode[col])\n",
    "      \n",
    "# Menampilkan data  \n",
    "print(df_encode.head())\n"
   ]
  },
  {
   "cell_type": "markdown",
   "metadata": {},
   "source": [
    "### 3. Menggabungkan Data untuk Permodelan\n",
    "Tahap ini menggabungkan data frame dari kedua pemrosesan sebelumnya yaitu dt_std dan df_encode."
   ]
  },
  {
   "cell_type": "code",
   "execution_count": 18,
   "metadata": {},
   "outputs": [
    {
     "name": "stdout",
     "output_type": "stream",
     "text": [
      "   Jenis Kelamin  Profesi  Tipe Residen      Umur  NilaiBelanjaSetahun\n",
      "0              0        4             1  1.411245             0.946763\n",
      "1              1        2             0 -1.617768            -1.695081\n",
      "2              0        3             0  0.722833            -0.695414\n",
      "3              0        3             0  1.067039            -0.727361\n",
      "4              1        4             0  0.240944             1.382421\n"
     ]
    }
   ],
   "source": [
    "# Menggabungkan data frame\n",
    "df_model= df_encode.merge(df_std, left_index = True, right_index=True, how= 'left') \n",
    "print(df_model.head())"
   ]
  },
  {
   "cell_type": "markdown",
   "metadata": {},
   "source": [
    "## Kesimpulan\n",
    "Sampai tahap ini sudah dilakukan beberapa langkah untuk pemrosesan data, sebagai berikut :  \n",
    "1. Menyiapkan library data  \n",
    "2. Melakukan proses eksplorasi data  \n",
    "3. Menyiapkan data untuk digunakan permodelan  \n",
    "\n",
    "Pada penerapan di industri, proses pemrosesan data ini termasuk yang paling banyak menghabiskan waktu bagi data scientist. Selain yang sudah dilakukan diatas masih banyak teknik lain yang perlu dilakukan, misalnya :  \n",
    "- Melakukan data imputation ketika ada *Null* data di data set yang akan digunakan  \n",
    "- Melakukan transformasi variabel, ketika ditemukan distribusi data yang condong ke salah satu sisi (skew data)  \n",
    "- Menangani pencilan data"
   ]
  },
  {
   "cell_type": "markdown",
   "metadata": {},
   "source": [
    "## Clustering dan Algoritma K-Prototypes\n",
    "**Clustering** adalah proses pembagian objek-objek ke dalam beberapa kelompok (cluster) berdasarkan tingkat kemiripan antara satu objek dengan yang lain.\n",
    "\n",
    "Terdapat beberapa algoritma untuk melakukan clustering ini. Salah satu yang populer adalah k-means.\n",
    "\n",
    "**K-means** biasannya hanya digunakan untuk data-data yang bertipe numerik. Sedangkan untuk yang bertipe kategorikal bisa menggunakan **K-modes**.\n",
    "\n",
    "Jika data memiliki gabungan tipe kategorikal dan numerikal variabel dapat menggunakan algorima **K-prototype** yang merupakan gaungan dar **K-means** dan **K-modes**.\n",
    "\n",
    "Untuk menggunakan algoritma k-prototype perlu memasukkan jumlah cluster yang dikehendaki dan juga memberikan index kolom untuk kolom-kolom yang bersifat katergorikal.\n",
    "\n",
    "*For more information check K-prototype documentation on [github/nicodv/kmodes](https://github.nicodv/kmodes)*."
   ]
  },
  {
   "cell_type": "markdown",
   "metadata": {},
   "source": [
    "## Mencari jumlah cluster yang optimal  \n",
    "\n",
    "Salah satu parameter penting yang harus dimasukkan pada algorima k-prototype adalah jumlah cluster yang diinginkan. Oleh karena itu perlu mendapatkan jumlah cluster yang optimal.Salah satu cara mendapatkan nilai optimal tersebut adalah dengan menggunakan bantuan #'elbow plot'#.\n",
    "\n",
    "Elbow plot ini dapat dibuat dengan cara memvisualisasikan total jarak seluruh data kita ke pusat cluster nya. Selanjutnya dipilih titik siku dari pola yang terbentuk dan menjadikannya sebagai jumlah cluster yang di inginkan."
   ]
  },
  {
   "cell_type": "code",
   "execution_count": 2,
   "metadata": {},
   "outputs": [
    {
     "data": {
      "image/png": "[encoded data removed]",
      "text/plain": [
       "<Figure size 432x288 with 1 Axes>"
      ]
     },
     "metadata": {
      "needs_background": "light"
     },
     "output_type": "display_data"
    }
   ],
   "source": [
    "from kmodes.kmodes import KModes\n",
    "from kmodes.kprototypes import KPrototypes\n",
    "import pandas as pd\n",
    "import seaborn as sns\n",
    "import matplotlib.pyplot as plt\n",
    "df_model = pd.read_csv('https://storage.googleapis.com/dqlab-dataset/df-customer-segmentation.csv')\n",
    "\n",
    "# Melakukan Iterasi untuk Mendapatkan nilai Cost\n",
    "cost = {}\n",
    "for k in range(2,10):\n",
    "    kproto = KPrototypes(n_clusters = k,random_state=75)\n",
    "    kproto.fit_predict(df_model, categorical=[0,1,2])\n",
    "    cost[k]= kproto.cost_\n",
    "\n",
    "# Memvisualisasikan Elbow Plot\n",
    "sns.pointplot(x=list(cost.keys()), y=list(cost.values()))\n",
    "plt.show()"
   ]
  },
  {
   "cell_type": "markdown",
   "metadata": {},
   "source": [
    "## Membuat Model\n",
    "\n",
    "Selanjutnya kamu dapat melakukan pembuatan model dengan jumlah kluster yang sudah didapat pada tahap sebelumnya yaitu 5 dan menyimpan hasilnya sebagai pickle file"
   ]
  },
  {
   "cell_type": "code",
   "execution_count": 5,
   "metadata": {},
   "outputs": [],
   "source": [
    "import pickle\n",
    "from kmodes.kmodes import KModes\n",
    "from kmodes.kprototypes import KPrototypes  \n",
    "  \n",
    "kproto = KPrototypes(n_clusters = 5, random_state = 75)  \n",
    "kproto = kproto.fit(df_model, categorical=[0,1,2])  \n",
    "  \n",
    "#Save Model  \n",
    "pickle.dump(kproto, open('cluster.pkl', 'wb'))  "
   ]
  },
  {
   "cell_type": "markdown",
   "metadata": {},
   "source": [
    "## Menggunakan Model\n",
    "Model yang sudah dibuat, dapat digunakan untuk menentukan setiap pelaggan masuk ke dalam cluster yang mana. Kali ini model akan digunakan untuk menentukan segmen pelanggan yang ada di set."
   ]
  },
  {
   "cell_type": "code",
   "execution_count": 8,
   "metadata": {},
   "outputs": [
    {
     "name": "stdout",
     "output_type": "stream",
     "text": [
      "segmen pelanggan: [3 1 2 2 0 4 3 2 4 4 2 2 3 3 0 4 4 2 0 1 0 2 4 0 0 2 0 4 2 2 1 3 1 0 4 0 4\n",
      " 3 4 1 4 0 4 0 4 0 2 3 4 3]\n",
      "\n",
      "  Customer_ID       Nama Pelanggan Jenis Kelamin  Umur       Profesi  \\\n",
      "0    CUST-001         Budi Anggara          Pria    58    Wiraswasta   \n",
      "1    CUST-002     Shirley Ratuwati        Wanita    14       Pelajar   \n",
      "2    CUST-003         Agus Cahyono          Pria    48  Professional   \n",
      "3    CUST-004     Antonius Winarta          Pria    53  Professional   \n",
      "4    CUST-005  Ibu Sri Wahyuni, IR        Wanita    41    Wiraswasta   \n",
      "\n",
      "  Tipe Residen  NilaiBelanjaSetahun  cluster  \n",
      "0       Sector              9497927        3  \n",
      "1      Cluster              2722700        1  \n",
      "2      Cluster              5286429        2  \n",
      "3      Cluster              5204498        2  \n",
      "4      Cluster             10615206        0  \n"
     ]
    }
   ],
   "source": [
    "import pandas as pd\n",
    "df = pd.read_csv(\"https://dqlab-dataset.s3-ap-southeast-1.amazonaws.com/customer_segments.txt\", sep=\"\\t\") \n",
    "# Menentukan segmen tiap pelanggan    \n",
    "clusters =  kproto.predict(df_model, categorical=[0,1,2])    \n",
    "print('segmen pelanggan: {}\\n'.format(clusters))    \n",
    "    \n",
    "# Menggabungkan data awal dan segmen pelanggan    \n",
    "df_final = df.copy()    \n",
    "df_final['cluster'] = clusters\n",
    "print(df_final.head()) "
   ]
  },
  {
   "cell_type": "code",
   "execution_count": 10,
   "metadata": {},
   "outputs": [
    {
     "name": "stdout",
     "output_type": "stream",
     "text": [
      "\n",
      "Pelanggan cluster: 0\n",
      "\n",
      "   Customer_ID       Nama Pelanggan Jenis Kelamin  Umur     Profesi  \\\n",
      "4     CUST-005  Ibu Sri Wahyuni, IR        Wanita    41  Wiraswasta   \n",
      "14    CUST-015     Shirley Ratuwati        Wanita    20  Wiraswasta   \n",
      "18    CUST-019         Mega Pranoto        Wanita    32  Wiraswasta   \n",
      "20    CUST-021     Lestari Fabianto        Wanita    38  Wiraswasta   \n",
      "23    CUST-024        Putri Ginting        Wanita    39  Wiraswasta   \n",
      "24    CUST-025       Julia Setiawan        Wanita    29  Wiraswasta   \n",
      "26    CUST-027        Grace Mulyati        Wanita    35  Wiraswasta   \n",
      "33    CUST-034       Deasy Arisandi        Wanita    21  Wiraswasta   \n",
      "35    CUST-036       Ni Made Suasti        Wanita    30  Wiraswasta   \n",
      "41    CUST-042         Yuliana Wati        Wanita    26  Wiraswasta   \n",
      "43    CUST-044                 Anna        Wanita    18  Wiraswasta   \n",
      "45    CUST-046         Elfira Surya        Wanita    25  Wiraswasta   \n",
      "\n",
      "   Tipe Residen  NilaiBelanjaSetahun  cluster  \n",
      "4       Cluster             10615206        0  \n",
      "14      Cluster             10365668        0  \n",
      "18      Cluster             10884508        0  \n",
      "20      Cluster              9222070        0  \n",
      "23      Cluster             10259572        0  \n",
      "24       Sector             10721998        0  \n",
      "26      Cluster              9114159        0  \n",
      "33       Sector              9759822        0  \n",
      "35      Cluster              9678994        0  \n",
      "41      Cluster              9880607        0  \n",
      "43      Cluster              9339737        0  \n",
      "45       Sector             10099807        0  \n",
      "\n",
      "Pelanggan cluster: 1\n",
      "\n",
      "   Customer_ID    Nama Pelanggan Jenis Kelamin  Umur    Profesi Tipe Residen  \\\n",
      "1     CUST-002  Shirley Ratuwati        Wanita    14    Pelajar      Cluster   \n",
      "19    CUST-020    Irene Novianto        Wanita    16    Pelajar       Sector   \n",
      "30    CUST-031     Eviana Handry        Wanita    19  Mahasiswa      Cluster   \n",
      "32    CUST-033   Cecilia Kusnadi        Wanita    19  Mahasiswa      Cluster   \n",
      "39    CUST-040    Irene Darmawan        Wanita    14    Pelajar       Sector   \n",
      "\n",
      "    NilaiBelanjaSetahun  cluster  \n",
      "1               2722700        1  \n",
      "19              2896845        1  \n",
      "30              3042773        1  \n",
      "32              3047926        1  \n",
      "39              2861855        1  \n",
      "\n",
      "Pelanggan cluster: 2\n",
      "\n",
      "   Customer_ID     Nama Pelanggan Jenis Kelamin  Umur           Profesi  \\\n",
      "2     CUST-003       Agus Cahyono          Pria    48      Professional   \n",
      "3     CUST-004   Antonius Winarta          Pria    53      Professional   \n",
      "7     CUST-008     Danang Santosa          Pria    52      Professional   \n",
      "10    CUST-011     Maria Suryawan        Wanita    50      Professional   \n",
      "11    CUST-012    Erliana Widjaja        Wanita    49      Professional   \n",
      "17    CUST-018        Nelly Halim        Wanita    63  Ibu Rumah Tangga   \n",
      "21    CUST-022       Novita Purba        Wanita    52      Professional   \n",
      "25    CUST-026  Christine Winarto        Wanita    55      Professional   \n",
      "28    CUST-029       Tia Hartanti        Wanita    56      Professional   \n",
      "29    CUST-030     Rosita Saragih        Wanita    46  Ibu Rumah Tangga   \n",
      "46    CUST-047        Mira Kurnia        Wanita    55  Ibu Rumah Tangga   \n",
      "\n",
      "   Tipe Residen  NilaiBelanjaSetahun  cluster  \n",
      "2       Cluster              5286429        2  \n",
      "3       Cluster              5204498        2  \n",
      "7       Cluster              5223569        2  \n",
      "10       Sector              5987367        2  \n",
      "11       Sector              5941914        2  \n",
      "17      Cluster              5340690        2  \n",
      "21      Cluster              5298157        2  \n",
      "25      Cluster              5269392        2  \n",
      "28      Cluster              5271845        2  \n",
      "29       Sector              5020976        2  \n",
      "46      Cluster              6130724        2  \n",
      "\n",
      "Pelanggan cluster: 3\n",
      "\n",
      "   Customer_ID    Nama Pelanggan Jenis Kelamin  Umur     Profesi Tipe Residen  \\\n",
      "0     CUST-001      Budi Anggara          Pria    58  Wiraswasta       Sector   \n",
      "6     CUST-007     Cahyono, Agus          Pria    64  Wiraswasta       Sector   \n",
      "12    CUST-013      Cahaya Putri        Wanita    64  Wiraswasta      Cluster   \n",
      "13    CUST-014    Mario Setiawan          Pria    60  Wiraswasta      Cluster   \n",
      "31    CUST-032   Chintya Winarni        Wanita    47  Wiraswasta       Sector   \n",
      "37    CUST-038      Agatha Salim        Wanita    46  Wiraswasta       Sector   \n",
      "47    CUST-048  Maria Hutagalung        Wanita    45  Wiraswasta       Sector   \n",
      "49    CUST-050    Lianna Nugraha        Wanita    55  Wiraswasta       Sector   \n",
      "\n",
      "    NilaiBelanjaSetahun  cluster  \n",
      "0               9497927        3  \n",
      "6               9837260        3  \n",
      "12              9333168        3  \n",
      "13              9471615        3  \n",
      "31             10663179        3  \n",
      "37             10477127        3  \n",
      "47             10390732        3  \n",
      "49             10569316        3  \n",
      "\n",
      "Pelanggan cluster: 4\n",
      "\n",
      "   Customer_ID         Nama Pelanggan Jenis Kelamin  Umur           Profesi  \\\n",
      "5     CUST-006        Rosalina Kurnia        Wanita    24      Professional   \n",
      "8     CUST-009  Elisabeth Suryadinata        Wanita    29      Professional   \n",
      "9     CUST-010         Mario Setiawan          Pria    33      Professional   \n",
      "15    CUST-016           Bambang Rudi          Pria    35      Professional   \n",
      "16    CUST-017              Yuni Sari        Wanita    32  Ibu Rumah Tangga   \n",
      "22    CUST-023        Denny Amiruddin          Pria    34      Professional   \n",
      "27    CUST-028          Adeline Huang        Wanita    40  Ibu Rumah Tangga   \n",
      "34    CUST-035                Ida Ayu        Wanita    39      Professional   \n",
      "36    CUST-037       Felicia Tandiono        Wanita    25      Professional   \n",
      "38    CUST-039           Gina Hidayat        Wanita    20      Professional   \n",
      "40    CUST-041       Shinta Aritonang        Wanita    24  Ibu Rumah Tangga   \n",
      "42    CUST-043           Yenna Sumadi        Wanita    31      Professional   \n",
      "44    CUST-045         Rismawati Juni        Wanita    22      Professional   \n",
      "48    CUST-049        Josephine Wahab        Wanita    33  Ibu Rumah Tangga   \n",
      "\n",
      "   Tipe Residen  NilaiBelanjaSetahun  cluster  \n",
      "5       Cluster              5215541        4  \n",
      "8        Sector              5993218        4  \n",
      "9       Cluster              5257448        4  \n",
      "15      Cluster              5262521        4  \n",
      "16      Cluster              5677762        4  \n",
      "22      Cluster              5239290        4  \n",
      "27      Cluster              6631680        4  \n",
      "34       Sector              5962575        4  \n",
      "36       Sector              5972787        4  \n",
      "38      Cluster              5257775        4  \n",
      "40      Cluster              6820976        4  \n",
      "42      Cluster              5268410        4  \n",
      "44      Cluster              5211041        4  \n",
      "48       Sector              4992585        4  \n"
     ]
    }
   ],
   "source": [
    "# Menampilkan data pelanggan berdasarkan cluster\n",
    "for i in range (0,5):\n",
    "    print('\\nPelanggan cluster: {}\\n'.format(i))\n",
    "    print(df_final[df_final['cluster']== i])"
   ]
  },
  {
   "cell_type": "code",
   "execution_count": 11,
   "metadata": {},
   "outputs": [
    {
     "data": {
      "image/png": "[encoded data removed]",
      "text/plain": [
       "<Figure size 432x288 with 1 Axes>"
      ]
     },
     "metadata": {
      "needs_background": "light"
     },
     "output_type": "display_data"
    },
    {
     "data": {
      "image/png": "[encoded data removed]",
      "text/plain": [
       "<Figure size 432x288 with 1 Axes>"
      ]
     },
     "metadata": {
      "needs_background": "light"
     },
     "output_type": "display_data"
    }
   ],
   "source": [
    "# Visualisasi Hasil Clustering menggunakan Box Plot\n",
    "import matplotlib.pyplot as plt\n",
    "# Data Numerical\n",
    "kolom_numerik = ['Umur','NilaiBelanjaSetahun']  \n",
    "  \n",
    "for i in kolom_numerik:  \n",
    "    plt.figure(figsize=(6,4))  \n",
    "    ax = sns.boxplot(x = 'cluster',y = i, data = df_final)  \n",
    "    plt.title('\\nBox Plot {}\\n'.format(i), fontsize=12)\n",
    "    plt.show()\n"
   ]
  },
  {
   "cell_type": "code",
   "execution_count": 12,
   "metadata": {},
   "outputs": [
    {
     "data": {
      "image/png": "[encoded data removed]",
      "text/plain": [
       "<Figure size 432x288 with 1 Axes>"
      ]
     },
     "metadata": {
      "needs_background": "light"
     },
     "output_type": "display_data"
    },
    {
     "data": {
      "image/png": "[encoded data removed]",
      "text/plain": [
       "<Figure size 432x288 with 1 Axes>"
      ]
     },
     "metadata": {
      "needs_background": "light"
     },
     "output_type": "display_data"
    },
    {
     "data": {
      "image/png": "[encoded data removed]",
      "text/plain": [
       "<Figure size 432x288 with 1 Axes>"
      ]
     },
     "metadata": {
      "needs_background": "light"
     },
     "output_type": "display_data"
    }
   ],
   "source": [
    "# Visualisasi Hasil Clustering menggunakan count plot\n",
    "import matplotlib.pyplot as plt  \n",
    "# Data Kategorikal  \n",
    "kolom_categorical = ['Jenis Kelamin','Profesi','Tipe Residen']  \n",
    "  \n",
    "for i in kolom_categorical:  \n",
    "    plt.figure(figsize=(6,4))  \n",
    "    ax = sns.countplot(data = df_final, x = 'cluster', hue = i )  \n",
    "    plt.title('\\nCount Plot {}\\n'.format(i), fontsize=12)  \n",
    "    ax.legend(loc=\"upper center\")  \n",
    "    for p in ax.patches:  \n",
    "        ax.annotate(format(p.get_height(), '.0f'),  \n",
    "                    (p.get_x() + p.get_width() / 2., p.get_height()),  \n",
    "                     ha = 'center',  \n",
    "                     va = 'center',  \n",
    "                     xytext = (0, 10),  \n",
    "                     textcoords = 'offset points')  \n",
    "      \n",
    "    sns.despine(right=True,top = True, left = True)  \n",
    "    ax.axes.yaxis.set_visible(False)  \n",
    "    plt.show()  \n"
   ]
  },
  {
   "cell_type": "markdown",
   "metadata": {},
   "source": [
    "## Memberi nama cluster  \n",
    "\n",
    "Dari hasil observasi yang telah dilakukan dapat diberikan nama segmen dari tiap-tiap nomor clusternya, yaitu :  \n",
    "- Cluster 0 : Diamond Young Enterprener.  \n",
    "  Isi cluster ini adalah para wiraswasta yang memiliki nilai transaksi rata-rata mendekati 10 juta. Selain itu isi dari cluster ini memiliki umur sekitar 18-41 tahun dengan rata-ratanya adalah 29 tahun.  \n",
    "- Cluster 1 : Diamond Senior Enterpreneur.  \n",
    "  Isi cluster ini adalah para wiraswasta yang memiliki nilai transaksi rata-rata mendekatai 10 juta. Isi dari cluster ini memiliki umur sekitar 45 - 64 tahun dengan rata - rata nya adalah 55 tahun.  \n",
    "- Cluster 2: Silver Students.   \n",
    "  Isi cluster ini adalah para pelajar dan mahasiswa dengan rata-rata umur mereka adalah 16 tahun dan nilai belanja setahun mendekati 3 juta.  \n",
    "- Cluster 3: Gold Young Member.  \n",
    "  Isi cluster ini adalah para professional dan ibu rumah tangga yang berusia muda dengan rentang umur sekitar 20 - 40 tahun dan dengan rata-rata 30 tahun dan nilai belanja setahun nya mendekati 6 juta.  \n",
    "- Cluster 4: Gold Senior Member.  \n",
    "  Isi cluster ini adalah para professional dan ibu rumah tangga yang berusia tua dengan rentang umur 46 - 63 tahun dan dengan rata-rata 53 tahun dan nilai belanja setahun nya mendekati 6 juta.\n",
    "\n",
    "Tambahkan kolom dengan nama segmen yang berisi nama segmen dari tiap-tiap pelanggan berdasarkan nilai clusternya.\n"
   ]
  },
  {
   "cell_type": "code",
   "execution_count": 14,
   "metadata": {},
   "outputs": [
    {
     "name": "stdout",
     "output_type": "stream",
     "text": [
      "<class 'pandas.core.frame.DataFrame'>\n",
      "RangeIndex: 50 entries, 0 to 49\n",
      "Data columns (total 9 columns):\n",
      " #   Column               Non-Null Count  Dtype \n",
      "---  ------               --------------  ----- \n",
      " 0   Customer_ID          50 non-null     object\n",
      " 1   Nama Pelanggan       50 non-null     object\n",
      " 2   Jenis Kelamin        50 non-null     object\n",
      " 3   Umur                 50 non-null     int64 \n",
      " 4   Profesi              50 non-null     object\n",
      " 5   Tipe Residen         50 non-null     object\n",
      " 6   NilaiBelanjaSetahun  50 non-null     int64 \n",
      " 7   cluster              50 non-null     uint16\n",
      " 8   segmen               50 non-null     object\n",
      "dtypes: int64(2), object(6), uint16(1)\n",
      "memory usage: 3.3+ KB\n",
      "None\n",
      "  Customer_ID       Nama Pelanggan Jenis Kelamin  Umur       Profesi  \\\n",
      "0    CUST-001         Budi Anggara          Pria    58    Wiraswasta   \n",
      "1    CUST-002     Shirley Ratuwati        Wanita    14       Pelajar   \n",
      "2    CUST-003         Agus Cahyono          Pria    48  Professional   \n",
      "3    CUST-004     Antonius Winarta          Pria    53  Professional   \n",
      "4    CUST-005  Ibu Sri Wahyuni, IR        Wanita    41    Wiraswasta   \n",
      "\n",
      "  Tipe Residen  NilaiBelanjaSetahun  cluster                 segmen  \n",
      "0       Sector              9497927        3      Gold Young Member  \n",
      "1      Cluster              2722700        1  Diamond Senior Member  \n",
      "2      Cluster              5286429        2          Silver Member  \n",
      "3      Cluster              5204498        2          Silver Member  \n",
      "4      Cluster             10615206        0   Diamond Young Member  \n"
     ]
    }
   ],
   "source": [
    "# Mapping nama kolom  \n",
    "df_final['segmen'] = df_final['cluster'].map({  \n",
    "    0: 'Diamond Young Member',  \n",
    "    1: 'Diamond Senior Member',  \n",
    "    2: 'Silver Member',  \n",
    "    3: 'Gold Young Member',  \n",
    "    4: 'Gold Senior Member'  \n",
    "})  \n",
    "\n",
    "print(df_final.info())\n",
    "print(df_final.head())  "
   ]
  },
  {
   "cell_type": "markdown",
   "metadata": {},
   "source": [
    "## Kesimpulan  \n",
    "Hasil dari segmentasi pelanggan dan pemberian nama yang sesuai untuk masing-masing cluster sebagai berikut :\n",
    "\n",
    "- Cluster 0: Diamond Young Entrepreneur, isi cluster ini adalah para wiraswasta yang memiliki nilai transaksi rata-rata mendekati 10 juta. Selain itu isi dari cluster ini memiliki umur sekitar 18 - 41 tahun dengan rata-ratanya adalah 29 tahun.\n",
    "- Cluster 1: Diamond Senior Entrepreneur, isi cluster ini adalah para wiraswata yang memiliki nilai transaksi rata-rata mendekati 10 juta. Isi dari cluster ini memiliki umur sekitar 45 - 64 tahun dengan rata-ratanya adalah 55 tahun.\n",
    "- Cluster 2: Silver Students, isi cluster ini adalah para pelajar dan mahasiswa dengan rata-rata umur mereka adalah 16 tahun dan nilai belanja setahun mendekati 3 juta.\n",
    "- Cluster 3: Gold Young Member, isi cluster ini adalah para professional dan ibu rumah tangga yang berusia muda dengan rentang umur sekitar 20 - 40 tahun dan dengan rata-rata 30 tahun dan nilai belanja setahun nya mendekati 6 juta.\n",
    "- Cluster 4: Gold Senior Member, isi cluster ini adalah para professional dan ibu rumah tangga yang berusia tua dengan rentang umur 46 - 63 tahun dan dengan rata-rata 53 tahun dan nilai belanja setahun nya mendekati 6 juta.\n",
    "\n",
    "## **Tips**\n",
    "\n",
    "Pada aplikasi di industri proses penentuan cluster yang optimum bisa dilakukan juga dengan melihat matriks evaluasi lainnya seperti sillhoute score dan callinski-harabaz score. Untuk detailnya bisa dilihat di dokumentasi sklearn (https://scikit-learn.org/stable/modules/clustering.html#clustering-performance-evaluation).\n",
    "\n",
    "Selain itu penentuan jumlah cluster yang optimal juga perlu mepertimbangkan masukan dari tim yang akan menggunakan model nya. Sehingga bisa menghasilkan cluster yang sesuai dengan kebutuhan mereka dan juga bagaimana cara mereka akan memperlakukan segmen-segmen ini.\n",
    "\n",
    "Tantangan lainnya adalah jumlah data yang jauh lebih banyak di banding dengan data set digunakan untuk latihan ini. Sehingga waktu pemrosesan datanya dan pembuatan model nya akan menjadi lebih lama."
   ]
  },
  {
   "cell_type": "markdown",
   "metadata": {},
   "source": [
    "# Mengoperasikan Model\n",
    "\n",
    "Model yang telah dibuat harus bisa digunakan untuk memprediksi data baru. Untuk itu harus dipersiapkan datanya kembali dan kemudian melakukan prediksi dengan parameter dan model yang sudah di buat.\n",
    "\n",
    "Jika model dapat dioperasionalkan, maka tim bisnis dapat dengan ceat mengetahui segmen dari pelanggan dan juga bisa mengatur strategi marketing dengan lebih efisien.\n",
    "\n",
    "## Persiapkan Data Baru\n",
    "\n",
    "Buat data baru untuk diprediksikan dengan model yang telah dibuat"
   ]
  },
  {
   "cell_type": "code",
   "execution_count": 15,
   "metadata": {},
   "outputs": [
    {
     "name": "stdout",
     "output_type": "stream",
     "text": [
      "  Customer_ID Nama Pelanggan Jenis Kelamin  Umur     Profesi Tipe Residen  \\\n",
      "0    CUST-100           Joko          Pria    45  Wiraswasta      Cluster   \n",
      "\n",
      "   NilaiBelanjaSetahun  \n",
      "0              8230000  \n"
     ]
    }
   ],
   "source": [
    "# Data Baru  \n",
    "data = [{  \n",
    "    'Customer_ID': 'CUST-100' ,  \n",
    "    'Nama Pelanggan': 'Joko' ,  \n",
    "    'Jenis Kelamin': 'Pria',  \n",
    "    'Umur': 45,  \n",
    "    'Profesi': 'Wiraswasta',  \n",
    "    'Tipe Residen': 'Cluster' ,  \n",
    "    'NilaiBelanjaSetahun': 8230000  \n",
    "      \n",
    "}]  \n",
    "  \n",
    "# Membuat Data Frame  \n",
    "new_df = pd.DataFrame(data)  \n",
    "  \n",
    "# Melihat Data  \n",
    "print(new_df)  "
   ]
  },
  {
   "cell_type": "markdown",
   "metadata": {},
   "source": [
    "## Membuat fungsi data pemrosesan\n",
    "\n",
    "Selanjutnya perlu dibuat fungsi untuk melakukan pemrosesan data berdasarkan parameter yang sama pada saat melakukan permodelan dan dipanggil dengan data baru.\n",
    "\n",
    "Fungsi yang dibuat akan digunakan untuk :\n",
    "*1. Melakukan konversi data kategorikal menjadi numerik*\n",
    "\n",
    "Dari proses sebelumnya didapatkan referensi untuk merubah data kategorikal menjadi numerik, sebagai berikut :\n",
    "\n",
    "- Jenis Kelamin  \n",
    "  0 : Pria\n",
    "  1 : Wanita\n",
    "\n",
    "- Profesi\n",
    "  0 : Ibu Rumah Tangga\n",
    "  1 : Mahasiswa\n",
    "  2 : Pelajar\n",
    "  3 : Professional\n",
    "  4 : Wiraswasta\n",
    "\n",
    "- Tipe Residen\n",
    "  1 : Sector\n",
    "  0 : Cluster\n",
    "\n",
    "*2. Melakukan standarisasi kolom numerikal*\n",
    "\n",
    "Untuk melakukan standarisasi dengan variable yang sama pada saat permodelan perlu menggunakan nilai rata-rata dan standard deviasi dari tiap variable pada saat kita melakukan permodelan, yaitu :\n",
    "\n",
    "*Umur* :  \n",
    "- Rata-rata : 37.5\n",
    "- Standard deviasi : 14.7\n",
    "\n",
    "*NilaiBelanjaSetahun*\n",
    "- Rata-rata : 7069874.8\n",
    "- Standart deviasi :2590619.0\n",
    "\n",
    "Dari nilai tersebut dapat dihitung nilai standardisasi (z) dengan menggunakan rumus Z=(x-u)/s dengan x adalah tiap nilai, u adalah rata-rata dan s adalah standart deviasi.\n",
    "\n",
    "*3. Menggabungkan hasil dua proses sebelumnya menjadi satu data frame*"
   ]
  },
  {
   "cell_type": "code",
   "execution_count": 16,
   "metadata": {},
   "outputs": [
    {
     "name": "stdout",
     "output_type": "stream",
     "text": [
      "   Jenis Kelamin  Profesi  Tipe Residen      Umur  NilaiBelanjaSetahun\n",
      "0              0        4             0  0.510204             0.447818\n"
     ]
    }
   ],
   "source": [
    "def data_preprocess(data):  \n",
    "    # Konversi Kategorikal data  \n",
    "    kolom_kategorikal = ['Jenis Kelamin','Profesi','Tipe Residen']\n",
    "      \n",
    "    df_encode = data[kolom_kategorikal].copy()  \n",
    "  \n",
    "    ## Jenis Kelamin   \n",
    "    df_encode['Jenis Kelamin'] = df_encode['Jenis Kelamin'].map({  \n",
    "        'Pria': 0,  \n",
    "        'Wanita' : 1  \n",
    "    })  \n",
    "      \n",
    "    ## Profesi  \n",
    "    df_encode['Profesi'] = df_encode['Profesi'].map({  \n",
    "        'Ibu Rumah Tangga': 0,  \n",
    "        'Mahasiswa' : 1,  \n",
    "        'Pelajar': 2,  \n",
    "        'Professional': 3,  \n",
    "        'Wiraswasta': 4  \n",
    "    })  \n",
    "      \n",
    "    ## Tipe Residen  \n",
    "    df_encode['Tipe Residen'] = df_encode['Tipe Residen'].map({  \n",
    "        'Cluster': 0,  \n",
    "        'Sector' : 1  \n",
    "    })  \n",
    "      \n",
    "    # Standardisasi Numerical Data  \n",
    "    kolom_numerik = ['Umur','NilaiBelanjaSetahun']  \n",
    "    df_std = data[kolom_numerik].copy()  \n",
    "      \n",
    "    ## Standardisasi Kolom Umur  \n",
    "    df_std['Umur'] = (df_std['Umur'] - 37.5)/14.7  \n",
    "      \n",
    "    ## Standardisasi Kolom Nilai Belanja Setahun  \n",
    "    df_std['NilaiBelanjaSetahun'] = (df_std['NilaiBelanjaSetahun'] - 7069874.8)/2590619.0  \n",
    "      \n",
    "    # Menggabungkan Kategorikal dan numerikal data  \n",
    "    df_model = df_encode.merge(df_std, left_index = True,  \n",
    "                           right_index=True, how = 'left')  \n",
    "      \n",
    "    return df_model  \n",
    "  \n",
    "# Menjalankan fungsi  \n",
    "new_df_model = data_preprocess(new_df)  \n",
    "  \n",
    "print(new_df_model) \n"
   ]
  },
  {
   "cell_type": "markdown",
   "metadata": {},
   "source": [
    "## Memanggil Model dan melakukan prediksi\n",
    "Setelah memiliki data yang siap digunakan saatnya memanggil model yang sudah di simpan sebelumnya dan melakukan prediksi.\n",
    "\n",
    "Untuk melakukan hal tersebut, perlu dibuat prosesnya menjadi dalam satu fungsi yang bernama modelling dengan menggunakan data baru sebagai inputnya."
   ]
  },
  {
   "cell_type": "code",
   "execution_count": 18,
   "metadata": {},
   "outputs": [
    {
     "name": "stdout",
     "output_type": "stream",
     "text": [
      "[3]\n"
     ]
    }
   ],
   "source": [
    "def modelling (data):  \n",
    "      \n",
    "    # Memanggil Model  \n",
    "    kpoto = pickle.load(open('cluster.pkl', 'rb'))  \n",
    "      \n",
    "    # Melakukan Prediksi  \n",
    "    clusters = kpoto.predict(data,categorical=[0,1,2])  \n",
    "      \n",
    "    return clusters  \n",
    "  \n",
    "# Menjalankan Fungsi  \n",
    "clusters = modelling(new_df_model)  \n",
    "  \n",
    "print(clusters)  \n"
   ]
  },
  {
   "cell_type": "markdown",
   "metadata": {},
   "source": [
    "## Menamakan Segmen\n",
    "Seperti proses sebelumnya, untuk melakukan ini perlu dibuatkan fungsi. Nama cluster yang sudah didapat di tahap sebelumnya perlu diubah menjadi nama segmen agar lebih mudah diidentifikasi."
   ]
  },
  {
   "cell_type": "code",
   "execution_count": 19,
   "metadata": {},
   "outputs": [
    {
     "name": "stdout",
     "output_type": "stream",
     "text": [
      "  Customer_ID Nama Pelanggan Jenis Kelamin  Umur     Profesi Tipe Residen  \\\n",
      "0    CUST-100           Joko          Pria    45  Wiraswasta      Cluster   \n",
      "\n",
      "   NilaiBelanjaSetahun  cluster             segmen  \n",
      "0              8230000        3  Gold Young Member  \n"
     ]
    }
   ],
   "source": [
    "def menamakan_segmen (data_asli, clusters):  \n",
    "      \n",
    "    # Menggabungkan cluster dan data asli  \n",
    "    final_df = data_asli.copy()  \n",
    "    final_df['cluster'] = clusters\n",
    "      \n",
    "    # Menamakan segmen  \n",
    "    final_df['segmen'] = final_df['cluster'].map({  \n",
    "        0: 'Diamond Young Member',  \n",
    "        1: 'Diamond Senior Member',  \n",
    "        2: 'Silver Students',  \n",
    "        3: 'Gold Young Member',  \n",
    "        4: 'Gold Senior Member'  \n",
    "    })  \n",
    "      \n",
    "    return final_df\n",
    "  \n",
    "# Menjalankan Fungsi  \n",
    "new_final_df = menamakan_segmen(new_df,clusters)  \n",
    "  \n",
    "print(new_final_df)  \n"
   ]
  },
  {
   "cell_type": "markdown",
   "metadata": {},
   "source": [
    "## Kesimpulan\n",
    "Akhirnya, alur proses untuk mengoperasikan model sudah selesai dibuat. Selanjutnya penggunakan kode ini dapat dijadwalkan atau akan dijalankan secara real-time setiap ada data masuk atau secara batch misal satu hari sekali.\n",
    "\n",
    "*Tips:*\n",
    "\n",
    "Di industri khususnya untuk mengorperasikan model bisa bermacam-macam caranya. Ada yang membuat dengan python script lalu di buat interval jam jalan nya. Selain itu bisa juga menggunakan bantuan software untuk melakukan deployment."
   ]
  }
 ],
 "metadata": {
  "interpreter": {
   "hash": "31f2aee4e71d21fbe5cf8b01ff0e069b9275f58929596ceb00d14d90e3e16cd6"
  },
  "kernelspec": {
   "display_name": "Python 3.8.5 64-bit",
   "name": "python3"
  },
  "language_info": {
   "codemirror_mode": {
    "name": "ipython",
    "version": 3
   },
   "file_extension": ".py",
   "mimetype": "text/x-python",
   "name": "python",
   "nbconvert_exporter": "python",
   "pygments_lexer": "ipython3",
   "version": "3.8.5"
  },
  "orig_nbformat": 4
 },
 "nbformat": 4,
 "nbformat_minor": 2
}